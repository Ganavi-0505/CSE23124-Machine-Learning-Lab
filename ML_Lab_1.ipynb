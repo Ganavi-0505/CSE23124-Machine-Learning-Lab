{
 "cells": [
  {
   "cell_type": "code",
   "execution_count": 5,
   "id": "46a84cac",
   "metadata": {},
   "outputs": [
    {
     "name": "stdout",
     "output_type": "stream",
     "text": [
      "Entar a string Hello\n",
      "Vowels: 2 and Consonants: 3\n"
     ]
    }
   ],
   "source": [
    "# Question 1: Write a program to count the number of vowels and consonants present in an input string\n",
    "def count_vc(string:str)->tuple:\n",
    "    vowels=\"aeiouAEIOU\"\n",
    "    cv=0\n",
    "    cc=0\n",
    "    for i in string:\n",
    "        if i in vowels:\n",
    "            cv+=1\n",
    "        else:\n",
    "            cc+=1\n",
    "    return cv,cc\n",
    "# Main\n",
    "s=str(input(\"Entar a string \"))\n",
    "v,c=count_vc(s)\n",
    "print(f\"Vowels: {v} and Consonants: {c}\")"
   ]
  },
  {
   "cell_type": "code",
   "execution_count": 4,
   "id": "9f4ff918",
   "metadata": {},
   "outputs": [
    {
     "name": "stdout",
     "output_type": "stream",
     "text": [
      "Enter number of rows in first matrix: 2\n",
      "Enter number of columns in first matrix: 2\n",
      "Enter elements row-wise (space separated):\n",
      "1 2\n",
      "3 4\n",
      "Enter number of rows in second matrix: 2\n",
      "Enter number of columns in second matrix: 2\n",
      "Enter elements row-wise (space separated):\n",
      "5 6\n",
      "7 8\n",
      "Result: [[19, 22], [43, 50]]\n"
     ]
    }
   ],
   "source": [
    "# Function to multiply two matrices\n",
    "def matrixmul(a, b):\n",
    "    # Check if number of columns in A == number of rows in B\n",
    "    if len(a[0]) != len(b):\n",
    "        return \"Error: Multiplication of these matrices is not possible\"\n",
    "\n",
    "    result = []  # to store the final product matrix\n",
    "\n",
    "    for i in range(len(a)):  # for each row in matrix A\n",
    "        row = []\n",
    "        for j in range(len(b[0])):  # for each column in matrix B\n",
    "            total = 0\n",
    "            for k in range(len(b)):  # perform the multiplication\n",
    "                total += a[i][k] * b[k][j]\n",
    "            row.append(total)\n",
    "        result.append(row)\n",
    "    \n",
    "    return result\n",
    "\n",
    "# Main\n",
    "\n",
    "# Input first matrix\n",
    "r1 = int(input(\"Enter number of rows in first matrix: \"))\n",
    "c1 = int(input(\"Enter number of columns in first matrix: \"))\n",
    "print(\"Enter elements row-wise (space separated):\")\n",
    "a = []\n",
    "for i in range(r1):\n",
    "    row = list(map(int, input().split()))\n",
    "    a.append(row)\n",
    "\n",
    "# Input second matrix\n",
    "r2 = int(input(\"Enter number of rows in second matrix: \"))\n",
    "c2 = int(input(\"Enter number of columns in second matrix: \"))\n",
    "print(\"Enter elements row-wise (space separated):\")\n",
    "b = []\n",
    "for i in range(r2):\n",
    "    row = list(map(int, input().split()))\n",
    "    b.append(row)\n",
    "\n",
    "# Multiply matrices\n",
    "product = matrixmul(a, b)\n",
    "\n",
    "# Output\n",
    "print(\"Result:\",product)"
   ]
  },
  {
   "cell_type": "code",
   "execution_count": 6,
   "id": "1e0a68eb",
   "metadata": {},
   "outputs": [
    {
     "name": "stdout",
     "output_type": "stream",
     "text": [
      "Enter first list (space separated): 1 2 3 4\n",
      "Enter second list (space separated): 2 4 5 6\n",
      "Result:  2\n"
     ]
    }
   ],
   "source": [
    "# Question 3: program to find number of common elements between 2 lists of integers\n",
    "# Function to count common elements\n",
    "def countc(a:list,b:list)->int:\n",
    "    s1=set(a)\n",
    "    s2=set(b)\n",
    "    r=s1.intersection(s2)\n",
    "    return len(r)\n",
    "# Main\n",
    "# Taking input of 2 lists\n",
    "a = list(map(int, input(\"Enter first list (space separated): \").split()))\n",
    "b = list(map(int, input(\"Enter second list (space separated): \").split()))\n",
    "# Printing result\n",
    "r=countc(a,b)\n",
    "print(\"Result: \",r)"
   ]
  },
  {
   "cell_type": "code",
   "execution_count": 8,
   "id": "aeeed6f6",
   "metadata": {},
   "outputs": [
    {
     "name": "stdout",
     "output_type": "stream",
     "text": [
      "Transpose of the matrix: [[1, 4], [2, 5], [3, 6]]\n"
     ]
    }
   ],
   "source": [
    "def transpose_matrix(matrix: list) -> list:\n",
    "    \"\"\"Returns the transpose of a matrix.\"\"\"\n",
    "    rows = len(matrix)\n",
    "    cols = len(matrix[0])\n",
    "    transposed = [[matrix[j][i] for j in range(rows)] for i in range(cols)]\n",
    "    return transposed\n",
    "\n",
    "# ---- MAIN CODE ----\n",
    "matrix_input = list(input(\"Enter a matrix\"))\n",
    "transposed = transpose_matrix(matrix_input)\n",
    "print(\"Transpose of the matrix:\", transposed)\n"
   ]
  },
  {
   "cell_type": "code",
   "execution_count": 7,
   "id": "9651267a",
   "metadata": {},
   "outputs": [
    {
     "name": "stdout",
     "output_type": "stream",
     "text": [
      "Random numbers: [118, 109, 130, 144, 140, 117, 105, 122, 107, 133, 136, 145, 140, 113, 132, 149, 142, 118, 139, 105, 113, 142, 105, 136, 112, 133, 141, 132, 146, 150, 127, 139, 124, 102, 114, 104, 113, 139, 131, 116, 138, 145, 145, 110, 102, 106, 127, 123, 100, 142, 105, 112, 138, 100, 126, 146, 131, 149, 148, 144, 148, 132, 107, 104, 134, 146, 126, 105, 138, 127, 135, 140, 104, 127, 112, 129, 104, 109, 113, 119, 142, 115, 115, 114, 147, 129, 149, 129, 122, 100, 137, 128, 119, 127, 132, 127, 146, 111, 134, 149]\n",
      "Mean: 126.31, Median: 127.5, Mode: 127\n"
     ]
    }
   ],
   "source": [
    "import random\n",
    "from statistics import mean, median, mode\n",
    "\n",
    "def generate_random_statistics() -> tuple:\n",
    "# Generating 100 random integers in range\n",
    "    random_numbers = [random.randint(100, 150) for _ in range(100)]\n",
    "    # calculating mean median and mode\n",
    "    avg = mean(random_numbers)\n",
    "    med = median(random_numbers)\n",
    "    mod = mode(random_numbers)\n",
    "    return random_numbers, avg, med, mod\n",
    "\n",
    "# MAIN\n",
    "numbers, avg, med, mod = generate_random_statistics()\n",
    "print(\"Random numbers:\", numbers)\n",
    "print(f\"Mean: {avg}, Median: {med}, Mode: {mod}\")\n"
   ]
  },
  {
   "cell_type": "code",
   "execution_count": null,
   "id": "22f819e2",
   "metadata": {},
   "outputs": [],
   "source": []
  }
 ],
 "metadata": {
  "kernelspec": {
   "display_name": "Python 3 (ipykernel)",
   "language": "python",
   "name": "python3"
  },
  "language_info": {
   "codemirror_mode": {
    "name": "ipython",
    "version": 3
   },
   "file_extension": ".py",
   "mimetype": "text/x-python",
   "name": "python",
   "nbconvert_exporter": "python",
   "pygments_lexer": "ipython3",
   "version": "3.11.5"
  }
 },
 "nbformat": 4,
 "nbformat_minor": 5
}
